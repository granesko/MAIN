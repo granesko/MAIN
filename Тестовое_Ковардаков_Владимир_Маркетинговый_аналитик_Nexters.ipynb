{
 "cells": [
  {
   "cell_type": "markdown",
   "metadata": {},
   "source": [
    "# Тестовое задание на позицию \"Маркетинговый аналитик\" "
   ]
  },
  {
   "cell_type": "markdown",
   "metadata": {},
   "source": [
    "# СОДЕРЖАНИЕ с ссылками для удобства\n",
    "\n",
    "[Тестовое задание на позицию \"Маркетинговый аналитик\"  Задача 1.](#1-bullet)\n",
    "\n",
    "[Тестовое задание на позицию \"Маркетинговый аналитик\"  Задача 2.](#2-bullet)\n",
    "\n",
    "[Тестовое задание на позицию \"Маркетинговый аналитик\"  Задача 3.](#3-bullet)\n",
    "\n",
    "[Тестовое задание на позицию \"Маркетинговый аналитик\"  Задача 4.](#4-bullet)\n",
    "\n",
    "[ТЗ_Креативные тестирования Кейс 1](#5-bullet)\n",
    "\n",
    "[ТЗ_Креативные тестирования Кейс 2](#6-bullet)"
   ]
  },
  {
   "cell_type": "markdown",
   "metadata": {},
   "source": [
    "## Задача 1.  <a class=\"anchor\" id=\"1-bullet\"></a>\n",
    "\n",
    "(10 мин. на решение + 20 мин. на оформление)\n",
    "\n",
    "Есть 5 корзин, в каждой по 4 шара. В первой корзине 4 черных, во второй 3 черных и 1\n",
    "белый, в третьей 2 черных и 2 белых, в четвертой 1 черный и 3 белых, в пятой 4 белых.\n",
    "Мы вытащили шар из случайно корзины, он оказался белым, какова вероятность того, что\n",
    "следующие 2 шара, которые мы вытащим из этой корзины оба белые?"
   ]
  },
  {
   "attachments": {
    "image.png": {
     "image/png": "[encoded data removed]"
    }
   },
   "cell_type": "markdown",
   "metadata": {},
   "source": [
    "## Решение\n",
    "### Рисунок 1.\n",
    "\n",
    "![image.png](attachment:image.png)"
   ]
  },
  {
   "cell_type": "markdown",
   "metadata": {},
   "source": [
    "Первым шаром мы вытащили **БЕЛЫЙ** => Дальше мы будем рассматривать только 4 урны, в которых присутствует хотя бы **один БЕЛЫЙ** шар, они выделены в черную рамку на **Рисунке 1**\n",
    "\n",
    "Давайте представим порядок действий, обычно это помогает, мы вытаскиваем шар белый, и в корзине остается уже три шара, и потом мы вытаскиваем еще один белый. Союс \"*И*\" и слово \"*ПОТОМ*\" позволяют нам понять, что мы имеем дело **с условной вероятностью и зависимыми событиями**\n",
    "\n",
    "Теперь нам надо понять какие корзины в нашей задаче нам подходят, а какие нет. В итоге при благоприятном исходе **мы вытащим три БЕЛЫХ шара**, это значит, что в корзинах где меньше трех белых шаров мы обречены на неудачу, а в корзинах, где больше или равно трех шаров, у нас есть шанс на благоприятный исход\n",
    "\n",
    "Данные корзины подсвечены на Рисунке 1 цветами: \n",
    "- синий - неблагоприятный исход\n",
    "- желтый - благоприятный исход\n",
    "\n",
    "Чтобы попасть в нужную корзину у нас вероятность 2/4, но все не так просто, для каждой корзины надо будет рассчитать условную вероятность, и потом эти две вероятности сложить. значит будем рассчитывать отдельно, значит будем считать что вероятность попасть в нужную корзину 1/4.\n",
    "\n",
    "- для корзины с тремя белыми шарами:  \n",
    "## $ P1 = \\frac{1}{4} * \\frac23 * \\frac12 = \\frac{1}{12} $\n",
    "- для корзины с четырмя белыми шарами:\n",
    "## $ P2 = \\frac14 * \\frac44 * \\frac33  = \\frac14$\n",
    "- для обеих корзин это будет: \n",
    "## $ P = P1 + P2 = \\frac1{12} + \\frac14 = \\frac13 = 0,(3) $\n",
    "\n",
    "# Ответ: P = 0.(3)"
   ]
  },
  {
   "cell_type": "code",
   "execution_count": 1,
   "metadata": {},
   "outputs": [
    {
     "data": {
      "text/plain": [
       "0.3333333333333333"
      ]
     },
     "execution_count": 1,
     "metadata": {},
     "output_type": "execute_result"
    }
   ],
   "source": [
    "# Решение\n",
    "1/4*2/3*1/2 + 1/4"
   ]
  },
  {
   "cell_type": "markdown",
   "metadata": {},
   "source": [
    "## Задача 2. <a class=\"anchor\" id=\"2-bullet\"></a>\n",
    "(2 часа - немного углубился в теорию + 30 мин на решение)\n",
    "\n",
    "В результате медицинского обследования один из тестов выявил у человека серьезное\n",
    "заболевание. Данный тест имеет высокую точность 99% (вероятность позитивного ответа при\n",
    "наличии заболевания 99%, вероятность отрицательного ответа при отсутствии заболевания также\n",
    "99%). Однако, выявленное заболевание является достаточно редким и встречается только у\n",
    "одного человека на 10000. Вычислить вероятность того, что у обследуемого человека\n",
    "действительно есть выявленное заболевание."
   ]
  },
  {
   "cell_type": "markdown",
   "metadata": {},
   "source": [
    "# Решение\n",
    "Эта задача на теорему Баейса\n",
    "\n",
    "Теорема Байеса может выдать вам вероятность правильности некой гипотезы, например того, что вы действительно больны в случае некоего события, например того что анализ показал положительный результат.\n",
    "\n",
    "Чтобы подсчитать это вам необходимо взять изначальную вероятность правдивости гипотезы, то есть насколько вероятным вы считали шанс быть больным этим заболеванием до того как получили результаты анализов и умножить это на вероятность события в случае если гипотеза правдива, то есть вероятность того что вы получите положительный результат анализа если вы действительно больны, а затем разделить это на общую вероятность события, то есть получение положительного результата, эта переменная является комбинацией вероятности того, что вы больны и получили положительный результат плюс ваша вероятность не быть больным и получение ложно положительного результата, часто самой сложной для определения части уравнения является изначальная вероятность правдивости гипотезы и иногда тут можно только догадываться, но в нашем случае неплохим началом может быть распространенность заболевания в популяции или 0.0001 и если мы подставим все оставшиеся числа получится что существует 00процентная вероятность того, что вы действительно больны после получения положительного теста.\n",
    "\n",
    "Входные данные:\n",
    "\n",
    "0.0001 - одна десятая процента населения \n",
    "\n",
    "0.99 - точность анализа\n",
    "\n",
    "## $ P(H|E) = \\frac{P(E|H)*P(H)}{P(H)*P(E|H)+P(-H)*P(E|-H)} $\n",
    "\n",
    "## $ P(H|E) = \\frac{0.99*0.0001}{0.0001*0.99+0.9999*0.01}*100 = 0.98\\% $\n",
    "\n",
    "# Ответ: \n",
    "\n",
    "# Вероятность того, что человек действительно болен 0.98%"
   ]
  },
  {
   "cell_type": "code",
   "execution_count": 2,
   "metadata": {},
   "outputs": [
    {
     "name": "stdout",
     "output_type": "stream",
     "text": [
      "Ответ: 0.98%\n"
     ]
    }
   ],
   "source": [
    "print('Ответ: '+ \\\n",
    "      str(round((0.99*0.0001)/(0.0001*0.99+0.9999*0.01)*100,2)) + '%')"
   ]
  },
  {
   "cell_type": "markdown",
   "metadata": {},
   "source": [
    "## Задача 3.  <a class=\"anchor\" id=\"3-bullet\"></a>\n",
    "(3 часа + долго искал нормальный SQL Editor с оконными функциями)\n",
    "\n",
    "Даны две таблицы:\n",
    "\n",
    "### 1. user_payments — таблица с платежами пользователей на каждом игровом сервере. \n",
    "#### Поля\n",
    "- userId\n",
    "- ts\n",
    "- server\n",
    "- price\n",
    "\n",
    "\n",
    "### 2. user_levelup — таблица с каждым повышением уровня пользователя в игре. \n",
    "Всего уровней 100,\n",
    "начиная с 1, понизить уровень в игре нельзя.\n",
    "#### Поля\n",
    "- userId\n",
    "- ts\n",
    "- level\n",
    "\n",
    "Поле ts имеет формат Unix Timestamp. \n",
    "\n",
    "Используя SQL, нужно вывести топ3 платежа по величине\n",
    "платежа для каждого сервера для пользователей 100 уровня в 2020 году. "
   ]
  },
  {
   "cell_type": "markdown",
   "metadata": {},
   "source": [
    "## Решение"
   ]
  },
  {
   "cell_type": "code",
   "execution_count": 3,
   "metadata": {},
   "outputs": [],
   "source": [
    "query = \"\"\"\n",
    "        SELECT * FROM (\n",
    "        SELECT \n",
    "            row_number() over (partition BY \"server\" \n",
    "                ORDER BY  \"server\", \"price\" DESC) num, \n",
    "-- нумеруем для каждого сервера платежи по убыванию уже после соединения на отфильтрованные данные\n",
    "            user_payments_2020.userid,\n",
    "            user_payments_2020.ts,\n",
    "            user_payments_2020.server,\n",
    "            user_payments_2020.price,\n",
    "            user_levelup_actual_val.level\n",
    "        FROM \n",
    "        (SELECT  *\n",
    "        FROM user_payments \n",
    "        WHERE user_payments.\"ts\" BETWEEN '2020-01-01 00:00:00' AND '2021-01-01 00:00:00') user_payments_2020 \n",
    "-- user_payments_2020: накладываем фильтр на год, еще до соединения, чтобы правильно пронумеровать потом\n",
    "        INNER JOIN (\n",
    "            SELECT max(id) as id,max(userid) as userid,max(ts) as ts,max(level) as level \n",
    "              FROM user_levelup\n",
    "              WHERE user_levelup.\"level\" = 100\n",
    "            group by userid) user_levelup_actual_val\n",
    "-- user_payments_2020: накладываем фильтр на год, еще до соединения, чтобы правильно пронумировать потом\n",
    "        on user_levelup_actual_val.\"userid\"=user_payments_2020.\"userid\") tabl \n",
    "-- tabl я добавил, чтобы можно было наложить фильтр на \"num\" row_number() \n",
    "        WHERE num <= 3 - так как пронумеровали по убыванию, то топ три платежа \n",
    "\n",
    "\"\"\""
   ]
  },
  {
   "cell_type": "markdown",
   "metadata": {},
   "source": [
    "## Проверка\n",
    "Создадим таблицу и протестим запрос"
   ]
  },
  {
   "cell_type": "code",
   "execution_count": 4,
   "metadata": {},
   "outputs": [],
   "source": [
    "tables_creat = \"\"\"\n",
    "\n",
    "CREATE TABLE user_payments(userid integer PRIMARY KEY, ts TIMESTAMP DEFAULT CURRENT_TIMESTAMP, server integer,price FLOAT);\n",
    "INSERT INTO user_payments VALUES(1,'2020-01-01 00:00:01', 11,1000);\n",
    "--INSERT INTO user_payments VALUES(1,'2020-01-01 00:00:01', 11,1000);\n",
    "INSERT INTO user_payments VALUES(2,'2020-01-01 00:00:02', 11,1100);\n",
    "INSERT INTO user_payments VALUES(3,'2020-01-01 00:00:03', 11,1400);\n",
    "INSERT INTO user_payments VALUES(4,'2021-01-01 00:00:04', 11,1200); \n",
    "INSERT INTO user_payments VALUES(5,'2021-01-01 00:00:05', 12,1300); \n",
    "INSERT INTO user_payments VALUES(6,'2020-01-01 00:00:06', 12,1000); \n",
    "INSERT INTO user_payments VALUES(7,'2020-01-01 00:00:07', 12,1500);\n",
    "INSERT INTO user_payments VALUES(8,'2020-01-01 00:00:07', 12,1100); \n",
    "INSERT INTO user_payments VALUES(9,'2020-01-01 00:00:07', 12,1700); \n",
    "INSERT INTO user_payments VALUES(10,'2020-01-01 00:00:07', 12,1600);\n",
    "\n",
    "CREATE TABLE user_levelup(id integer PRIMARY KEY, userid integer, ts TIMESTAMP DEFAULT CURRENT_TIMESTAMP, level integer);\n",
    "INSERT INTO user_levelup VALUES(1,1,'2020-01-01 00:00:07', 100); \n",
    "INSERT INTO user_levelup VALUES(2,1,'2020-01-01 00:00:07', 99);\n",
    "INSERT INTO user_levelup VALUES(3,1,'2020-01-01 00:00:07', 98);\n",
    "\n",
    "INSERT INTO user_levelup VALUES(4,2,'2020-01-01 00:00:07', 99);\n",
    "INSERT INTO user_levelup VALUES(5,2,'2020-01-01 00:00:07', 98); \n",
    "INSERT INTO user_levelup VALUES(6,2,'2020-01-01 00:00:07', 97); \n",
    "\n",
    "INSERT INTO user_levelup VALUES(7,3,'2020-01-01 00:00:07', 100); \n",
    "INSERT INTO user_levelup VALUES(8,3,'2020-01-01 00:00:07', 99); \n",
    "\n",
    "INSERT INTO user_levelup VALUES(9,4,'2020-01-01 00:00:07', 100); \n",
    "INSERT INTO user_levelup VALUES(10,4,'2020-01-01 00:00:07', 99); \n",
    "\n",
    "INSERT INTO user_levelup VALUES(11,5,'2020-01-01 00:00:07', 99); \n",
    "INSERT INTO user_levelup VALUES(12,5,'2020-01-01 00:00:07', 98); \n",
    "\n",
    "INSERT INTO user_levelup VALUES(13,6,'2020-01-01 00:00:07', 99); \n",
    "INSERT INTO user_levelup VALUES(14,6,'2020-01-01 00:00:07', 98); \n",
    "\n",
    "INSERT INTO user_levelup VALUES(15,7,'2020-01-01 00:00:07', 99); \n",
    "INSERT INTO user_levelup VALUES(16,7,'2020-01-01 00:00:07', 98); \n",
    "\n",
    "INSERT INTO user_levelup VALUES(17,8,'2020-01-01 00:00:07', 100); \n",
    "INSERT INTO user_levelup VALUES(18,8,'2020-01-01 00:00:07', 99);  \n",
    "\n",
    "INSERT INTO user_levelup VALUES(19,9,'2020-01-01 00:00:07', 99); \n",
    "INSERT INTO user_levelup VALUES(20,9,'2020-01-01 00:00:07', 98); \n",
    "\n",
    "INSERT INTO user_levelup VALUES(21,10,'2020-01-01 00:00:07', 99); \n",
    "INSERT INTO user_levelup VALUES(22,10,'2020-01-01 00:00:07', 98);\n",
    "\"\"\""
   ]
  },
  {
   "cell_type": "code",
   "execution_count": 5,
   "metadata": {},
   "outputs": [],
   "source": [
    "# 1|2020-01-01 00:00:01|11|1000.0\n",
    "# 2|2020-01-01 00:00:02|11|1100.0\n",
    "# 3|2020-01-01 00:00:03|11|1400.0\n",
    "# 4|2021-01-01 00:00:04|11|1200.0\n",
    "# 5|2021-01-01 00:00:05|12|1300.0\n",
    "# 6|2020-01-01 00:00:06|12|1000.0\n",
    "# 7|2020-01-01 00:00:07|12|1500.0\n",
    "# 8|2020-01-01 00:00:07|12|1100.0\n",
    "# 9|2020-01-01 00:00:07|12|1700.0\n",
    "# 10|2020-01-01 00:00:07|12|1600.0\n",
    "# 1|1|2020-01-01 00:00:07|100\n",
    "# 2|1|2020-01-01 00:00:07|99\n",
    "# 3|1|2020-01-01 00:00:07|98\n",
    "# 4|2|2020-01-01 00:00:07|99\n",
    "# 5|2|2020-01-01 00:00:07|98\n",
    "# 6|2|2020-01-01 00:00:07|97\n",
    "# 7|3|2020-01-01 00:00:07|100\n",
    "# 8|3|2020-01-01 00:00:07|99\n",
    "# 9|4|2020-01-01 00:00:07|100\n",
    "# 10|4|2020-01-01 00:00:07|99\n",
    "# 11|5|2020-01-01 00:00:07|99\n",
    "# 12|5|2020-01-01 00:00:07|98\n",
    "# 13|6|2020-01-01 00:00:07|99\n",
    "# 14|6|2020-01-01 00:00:07|98\n",
    "# 15|7|2020-01-01 00:00:07|99\n",
    "# 16|7|2020-01-01 00:00:07|98\n",
    "# 17|8|2020-01-01 00:00:07|100\n",
    "# 18|8|2020-01-01 00:00:07|99\n",
    "# 19|9|2020-01-01 00:00:07|99\n",
    "# 20|9|2020-01-01 00:00:07|98\n",
    "# 21|10|2020-01-01 00:00:07|99\n",
    "# 22|10|2020-01-01 00:00:07|98"
   ]
  },
  {
   "cell_type": "markdown",
   "metadata": {},
   "source": [
    "## Задача 4. <a class=\"anchor\" id=\"4-bullet\"></a>\n",
    "\n",
    "(40-50 мин.)\n",
    "\n",
    "В файле data.csv представлены две выборки значений некой метрики до и после релиза\n",
    "нового крутого апдейта (выборки независимы). Команда проекта надеется, что после апдейта\n",
    "удалось увеличить значение этой метрики. Пользуясь средствами Python (любой версии)\n",
    "выполните:\n",
    "1. Прочитайте файл data.csv\n",
    "2. Визуализируйте значения метрик таким образом, чтобы можно было наглядно заметить и оценить характер изменений\n",
    "3. Выясните, удалось ли увеличить метрику, и аргументируйте свой ответ\n",
    "4. Прикрепите получившийся код/Jupyter Notebook к заданию"
   ]
  },
  {
   "cell_type": "markdown",
   "metadata": {},
   "source": [
    "## Решение"
   ]
  },
  {
   "cell_type": "code",
   "execution_count": 6,
   "metadata": {},
   "outputs": [],
   "source": [
    "import pandas as pd\n",
    "pd.set_option('display.max_columns', 115)\n",
    "pd.set_option('display.max_rows', 100)\n",
    "\n",
    "# читаем файл\n",
    "df_data = pd.read_csv('data.csv', index_col=0)"
   ]
  },
  {
   "cell_type": "code",
   "execution_count": 7,
   "metadata": {},
   "outputs": [
    {
     "name": "stdout",
     "output_type": "stream",
     "text": [
      "(26, 2)\n"
     ]
    },
    {
     "data": {
      "text/html": [
       "<div>\n",
       "<style scoped>\n",
       "    .dataframe tbody tr th:only-of-type {\n",
       "        vertical-align: middle;\n",
       "    }\n",
       "\n",
       "    .dataframe tbody tr th {\n",
       "        vertical-align: top;\n",
       "    }\n",
       "\n",
       "    .dataframe thead th {\n",
       "        text-align: right;\n",
       "    }\n",
       "</style>\n",
       "<table border=\"1\" class=\"dataframe\">\n",
       "  <thead>\n",
       "    <tr style=\"text-align: right;\">\n",
       "      <th></th>\n",
       "      <th>metric_before</th>\n",
       "      <th>metric_after</th>\n",
       "    </tr>\n",
       "  </thead>\n",
       "  <tbody>\n",
       "    <tr>\n",
       "      <th>0</th>\n",
       "      <td>22.750000</td>\n",
       "      <td>538.414502</td>\n",
       "    </tr>\n",
       "    <tr>\n",
       "      <th>1</th>\n",
       "      <td>54.965300</td>\n",
       "      <td>281.976499</td>\n",
       "    </tr>\n",
       "    <tr>\n",
       "      <th>2</th>\n",
       "      <td>115.095499</td>\n",
       "      <td>4.914000</td>\n",
       "    </tr>\n",
       "    <tr>\n",
       "      <th>3</th>\n",
       "      <td>37.700001</td>\n",
       "      <td>146.510002</td>\n",
       "    </tr>\n",
       "    <tr>\n",
       "      <th>4</th>\n",
       "      <td>4.225000</td>\n",
       "      <td>0.378300</td>\n",
       "    </tr>\n",
       "  </tbody>\n",
       "</table>\n",
       "</div>"
      ],
      "text/plain": [
       "   metric_before  metric_after\n",
       "0      22.750000    538.414502\n",
       "1      54.965300    281.976499\n",
       "2     115.095499      4.914000\n",
       "3      37.700001    146.510002\n",
       "4       4.225000      0.378300"
      ]
     },
     "execution_count": 7,
     "metadata": {},
     "output_type": "execute_result"
    }
   ],
   "source": [
    "print(df_data.shape)\n",
    "df_data[:5]"
   ]
  },
  {
   "cell_type": "code",
   "execution_count": 8,
   "metadata": {},
   "outputs": [],
   "source": [
    "%matplotlib inline\n",
    "import seaborn as sns\n",
    "import matplotlib.pyplot as plt"
   ]
  },
  {
   "cell_type": "code",
   "execution_count": 9,
   "metadata": {},
   "outputs": [
    {
     "data": {
      "text/plain": [
       "<matplotlib.legend.Legend at 0x22b47b17e80>"
      ]
     },
     "execution_count": 9,
     "metadata": {},
     "output_type": "execute_result"
    },
    {
     "data": {
      "image/png": "[encoded data removed]",
      "text/plain": [
       "<Figure size 432x288 with 1 Axes>"
      ]
     },
     "metadata": {
      "needs_background": "light"
     },
     "output_type": "display_data"
    }
   ],
   "source": [
    "plt.plot(df_data['metric_before'], label='metric_before')\n",
    "plt.plot(df_data['metric_after'], label='metric_after')\n",
    "plt.legend()"
   ]
  },
  {
   "cell_type": "markdown",
   "metadata": {},
   "source": [
    "*Видим, что данная визуализация не очень читаема, давайте попробуем использовать библиотеку **plotly**, добавим интерактива с помощью инструментов лупы и фото, так же добавим подписи к значениям при наведении на них и подпишем оси.*"
   ]
  },
  {
   "cell_type": "code",
   "execution_count": 10,
   "metadata": {
    "scrolled": false
   },
   "outputs": [
    {
     "data": {
      "text/html": [
       "        <script type=\"text/javascript\">\n",
       "        window.PlotlyConfig = {MathJaxConfig: 'local'};\n",
       "        if (window.MathJax) {MathJax.Hub.Config({SVG: {font: \"STIX-Web\"}});}\n",
       "        if (typeof require !== 'undefined') {\n",
       "        require.undef(\"plotly\");\n",
       "        requirejs.config({\n",
       "            paths: {\n",
       "                'plotly': ['https://cdn.plot.ly/plotly-latest.min']\n",
       "            }\n",
       "        });\n",
       "        require(['plotly'], function(Plotly) {\n",
       "            window._Plotly = Plotly;\n",
       "        });\n",
       "        }\n",
       "        </script>\n",
       "        "
      ]
     },
     "metadata": {},
     "output_type": "display_data"
    },
    {
     "data": {
      "text/html": [
       "        <script type=\"text/javascript\">\n",
       "        window.PlotlyConfig = {MathJaxConfig: 'local'};\n",
       "        if (window.MathJax) {MathJax.Hub.Config({SVG: {font: \"STIX-Web\"}});}\n",
       "        if (typeof require !== 'undefined') {\n",
       "        require.undef(\"plotly\");\n",
       "        requirejs.config({\n",
       "            paths: {\n",
       "                'plotly': ['https://cdn.plot.ly/plotly-latest.min']\n",
       "            }\n",
       "        });\n",
       "        require(['plotly'], function(Plotly) {\n",
       "            window._Plotly = Plotly;\n",
       "        });\n",
       "        }\n",
       "        </script>\n",
       "        "
      ]
     },
     "metadata": {},
     "output_type": "display_data"
    },
    {
     "data": {
      "application/vnd.plotly.v1+json": {
       "config": {
        "linkText": "Export to plot.ly",
        "plotlyServerURL": "https://plot.ly",
        "showLink": false
       },
       "data": [
        {
         "name": "metric_before",
         "type": "bar",
         "x": [
          0,
          1,
          2,
          3,
          4,
          5,
          6,
          7,
          8,
          9,
          10,
          11,
          12,
          13,
          14,
          15,
          16,
          17,
          18,
          19,
          20,
          21,
          22,
          23,
          24,
          25
         ],
         "y": [
          22.75,
          54.96529972553253,
          115.09549868106842,
          37.70000076293945,
          4.224999904632568,
          4.224999904632568,
          37.70000076293945,
          13,
          274.6380014419556,
          3.25,
          128.94700622558594,
          79.57299995422362,
          3.913000095635653,
          0.975000023841858,
          3.25,
          18.850000381469727,
          6.5,
          332.44250008463865,
          39.88400006294251,
          33.150001525878906,
          81.25,
          4.355000019073486,
          130,
          56.26400065422058,
          39,
          61.16499984264374
         ]
        },
        {
         "name": "metric_after",
         "type": "bar",
         "x": [
          0,
          1,
          2,
          3,
          4,
          5,
          6,
          7,
          8,
          9,
          10,
          11,
          12,
          13,
          14,
          15,
          16,
          17,
          18,
          19,
          20,
          21,
          22,
          23,
          24,
          25
         ],
         "y": [
          538.4145016670227,
          281.9764986038208,
          4.914000034332275,
          146.51000162959102,
          0.3783000111579895,
          179.224500797689,
          327.7820029258728,
          329.02350187301636,
          9.425000190734863,
          272.8505024909973,
          257.33500003814703,
          1.4950000047683716,
          61.50299835205078,
          54.72999954223633,
          4.374499797821045,
          18.1350005865097,
          5.986499786376952,
          128.94700622558594,
          128.94700622558594,
          31.31700086593628,
          0.7149999737739563,
          61.50299835205078,
          13,
          116.68799877166748,
          57.20000076293945,
          8.84000015258789
         ]
        }
       ],
       "layout": {
        "barmode": "group",
        "hovermode": "x",
        "template": {
         "data": {
          "bar": [
           {
            "error_x": {
             "color": "#2a3f5f"
            },
            "error_y": {
             "color": "#2a3f5f"
            },
            "marker": {
             "line": {
              "color": "#E5ECF6",
              "width": 0.5
             }
            },
            "type": "bar"
           }
          ],
          "barpolar": [
           {
            "marker": {
             "line": {
              "color": "#E5ECF6",
              "width": 0.5
             }
            },
            "type": "barpolar"
           }
          ],
          "carpet": [
           {
            "aaxis": {
             "endlinecolor": "#2a3f5f",
             "gridcolor": "white",
             "linecolor": "white",
             "minorgridcolor": "white",
             "startlinecolor": "#2a3f5f"
            },
            "baxis": {
             "endlinecolor": "#2a3f5f",
             "gridcolor": "white",
             "linecolor": "white",
             "minorgridcolor": "white",
             "startlinecolor": "#2a3f5f"
            },
            "type": "carpet"
           }
          ],
          "choropleth": [
           {
            "colorbar": {
             "outlinewidth": 0,
             "ticks": ""
            },
            "type": "choropleth"
           }
          ],
          "contour": [
           {
            "colorbar": {
             "outlinewidth": 0,
             "ticks": ""
            },
            "colorscale": [
             [
              0,
              "#0d0887"
             ],
             [
              0.1111111111111111,
              "#46039f"
             ],
             [
              0.2222222222222222,
              "#7201a8"
             ],
             [
              0.3333333333333333,
              "#9c179e"
             ],
             [
              0.4444444444444444,
              "#bd3786"
             ],
             [
              0.5555555555555556,
              "#d8576b"
             ],
             [
              0.6666666666666666,
              "#ed7953"
             ],
             [
              0.7777777777777778,
              "#fb9f3a"
             ],
             [
              0.8888888888888888,
              "#fdca26"
             ],
             [
              1,
              "#f0f921"
             ]
            ],
            "type": "contour"
           }
          ],
          "contourcarpet": [
           {
            "colorbar": {
             "outlinewidth": 0,
             "ticks": ""
            },
            "type": "contourcarpet"
           }
          ],
          "heatmap": [
           {
            "colorbar": {
             "outlinewidth": 0,
             "ticks": ""
            },
            "colorscale": [
             [
              0,
              "#0d0887"
             ],
             [
              0.1111111111111111,
              "#46039f"
             ],
             [
              0.2222222222222222,
              "#7201a8"
             ],
             [
              0.3333333333333333,
              "#9c179e"
             ],
             [
              0.4444444444444444,
              "#bd3786"
             ],
             [
              0.5555555555555556,
              "#d8576b"
             ],
             [
              0.6666666666666666,
              "#ed7953"
             ],
             [
              0.7777777777777778,
              "#fb9f3a"
             ],
             [
              0.8888888888888888,
              "#fdca26"
             ],
             [
              1,
              "#f0f921"
             ]
            ],
            "type": "heatmap"
           }
          ],
          "heatmapgl": [
           {
            "colorbar": {
             "outlinewidth": 0,
             "ticks": ""
            },
            "colorscale": [
             [
              0,
              "#0d0887"
             ],
             [
              0.1111111111111111,
              "#46039f"
             ],
             [
              0.2222222222222222,
              "#7201a8"
             ],
             [
              0.3333333333333333,
              "#9c179e"
             ],
             [
              0.4444444444444444,
              "#bd3786"
             ],
             [
              0.5555555555555556,
              "#d8576b"
             ],
             [
              0.6666666666666666,
              "#ed7953"
             ],
             [
              0.7777777777777778,
              "#fb9f3a"
             ],
             [
              0.8888888888888888,
              "#fdca26"
             ],
             [
              1,
              "#f0f921"
             ]
            ],
            "type": "heatmapgl"
           }
          ],
          "histogram": [
           {
            "marker": {
             "colorbar": {
              "outlinewidth": 0,
              "ticks": ""
             }
            },
            "type": "histogram"
           }
          ],
          "histogram2d": [
           {
            "colorbar": {
             "outlinewidth": 0,
             "ticks": ""
            },
            "colorscale": [
             [
              0,
              "#0d0887"
             ],
             [
              0.1111111111111111,
              "#46039f"
             ],
             [
              0.2222222222222222,
              "#7201a8"
             ],
             [
              0.3333333333333333,
              "#9c179e"
             ],
             [
              0.4444444444444444,
              "#bd3786"
             ],
             [
              0.5555555555555556,
              "#d8576b"
             ],
             [
              0.6666666666666666,
              "#ed7953"
             ],
             [
              0.7777777777777778,
              "#fb9f3a"
             ],
             [
              0.8888888888888888,
              "#fdca26"
             ],
             [
              1,
              "#f0f921"
             ]
            ],
            "type": "histogram2d"
           }
          ],
          "histogram2dcontour": [
           {
            "colorbar": {
             "outlinewidth": 0,
             "ticks": ""
            },
            "colorscale": [
             [
              0,
              "#0d0887"
             ],
             [
              0.1111111111111111,
              "#46039f"
             ],
             [
              0.2222222222222222,
              "#7201a8"
             ],
             [
              0.3333333333333333,
              "#9c179e"
             ],
             [
              0.4444444444444444,
              "#bd3786"
             ],
             [
              0.5555555555555556,
              "#d8576b"
             ],
             [
              0.6666666666666666,
              "#ed7953"
             ],
             [
              0.7777777777777778,
              "#fb9f3a"
             ],
             [
              0.8888888888888888,
              "#fdca26"
             ],
             [
              1,
              "#f0f921"
             ]
            ],
            "type": "histogram2dcontour"
           }
          ],
          "mesh3d": [
           {
            "colorbar": {
             "outlinewidth": 0,
             "ticks": ""
            },
            "type": "mesh3d"
           }
          ],
          "parcoords": [
           {
            "line": {
             "colorbar": {
              "outlinewidth": 0,
              "ticks": ""
             }
            },
            "type": "parcoords"
           }
          ],
          "pie": [
           {
            "automargin": true,
            "type": "pie"
           }
          ],
          "scatter": [
           {
            "marker": {
             "colorbar": {
              "outlinewidth": 0,
              "ticks": ""
             }
            },
            "type": "scatter"
           }
          ],
          "scatter3d": [
           {
            "line": {
             "colorbar": {
              "outlinewidth": 0,
              "ticks": ""
             }
            },
            "marker": {
             "colorbar": {
              "outlinewidth": 0,
              "ticks": ""
             }
            },
            "type": "scatter3d"
           }
          ],
          "scattercarpet": [
           {
            "marker": {
             "colorbar": {
              "outlinewidth": 0,
              "ticks": ""
             }
            },
            "type": "scattercarpet"
           }
          ],
          "scattergeo": [
           {
            "marker": {
             "colorbar": {
              "outlinewidth": 0,
              "ticks": ""
             }
            },
            "type": "scattergeo"
           }
          ],
          "scattergl": [
           {
            "marker": {
             "colorbar": {
              "outlinewidth": 0,
              "ticks": ""
             }
            },
            "type": "scattergl"
           }
          ],
          "scattermapbox": [
           {
            "marker": {
             "colorbar": {
              "outlinewidth": 0,
              "ticks": ""
             }
            },
            "type": "scattermapbox"
           }
          ],
          "scatterpolar": [
           {
            "marker": {
             "colorbar": {
              "outlinewidth": 0,
              "ticks": ""
             }
            },
            "type": "scatterpolar"
           }
          ],
          "scatterpolargl": [
           {
            "marker": {
             "colorbar": {
              "outlinewidth": 0,
              "ticks": ""
             }
            },
            "type": "scatterpolargl"
           }
          ],
          "scatterternary": [
           {
            "marker": {
             "colorbar": {
              "outlinewidth": 0,
              "ticks": ""
             }
            },
            "type": "scatterternary"
           }
          ],
          "surface": [
           {
            "colorbar": {
             "outlinewidth": 0,
             "ticks": ""
            },
            "colorscale": [
             [
              0,
              "#0d0887"
             ],
             [
              0.1111111111111111,
              "#46039f"
             ],
             [
              0.2222222222222222,
              "#7201a8"
             ],
             [
              0.3333333333333333,
              "#9c179e"
             ],
             [
              0.4444444444444444,
              "#bd3786"
             ],
             [
              0.5555555555555556,
              "#d8576b"
             ],
             [
              0.6666666666666666,
              "#ed7953"
             ],
             [
              0.7777777777777778,
              "#fb9f3a"
             ],
             [
              0.8888888888888888,
              "#fdca26"
             ],
             [
              1,
              "#f0f921"
             ]
            ],
            "type": "surface"
           }
          ],
          "table": [
           {
            "cells": {
             "fill": {
              "color": "#EBF0F8"
             },
             "line": {
              "color": "white"
             }
            },
            "header": {
             "fill": {
              "color": "#C8D4E3"
             },
             "line": {
              "color": "white"
             }
            },
            "type": "table"
           }
          ]
         },
         "layout": {
          "annotationdefaults": {
           "arrowcolor": "#2a3f5f",
           "arrowhead": 0,
           "arrowwidth": 1
          },
          "autotypenumbers": "strict",
          "coloraxis": {
           "colorbar": {
            "outlinewidth": 0,
            "ticks": ""
           }
          },
          "colorscale": {
           "diverging": [
            [
             0,
             "#8e0152"
            ],
            [
             0.1,
             "#c51b7d"
            ],
            [
             0.2,
             "#de77ae"
            ],
            [
             0.3,
             "#f1b6da"
            ],
            [
             0.4,
             "#fde0ef"
            ],
            [
             0.5,
             "#f7f7f7"
            ],
            [
             0.6,
             "#e6f5d0"
            ],
            [
             0.7,
             "#b8e186"
            ],
            [
             0.8,
             "#7fbc41"
            ],
            [
             0.9,
             "#4d9221"
            ],
            [
             1,
             "#276419"
            ]
           ],
           "sequential": [
            [
             0,
             "#0d0887"
            ],
            [
             0.1111111111111111,
             "#46039f"
            ],
            [
             0.2222222222222222,
             "#7201a8"
            ],
            [
             0.3333333333333333,
             "#9c179e"
            ],
            [
             0.4444444444444444,
             "#bd3786"
            ],
            [
             0.5555555555555556,
             "#d8576b"
            ],
            [
             0.6666666666666666,
             "#ed7953"
            ],
            [
             0.7777777777777778,
             "#fb9f3a"
            ],
            [
             0.8888888888888888,
             "#fdca26"
            ],
            [
             1,
             "#f0f921"
            ]
           ],
           "sequentialminus": [
            [
             0,
             "#0d0887"
            ],
            [
             0.1111111111111111,
             "#46039f"
            ],
            [
             0.2222222222222222,
             "#7201a8"
            ],
            [
             0.3333333333333333,
             "#9c179e"
            ],
            [
             0.4444444444444444,
             "#bd3786"
            ],
            [
             0.5555555555555556,
             "#d8576b"
            ],
            [
             0.6666666666666666,
             "#ed7953"
            ],
            [
             0.7777777777777778,
             "#fb9f3a"
            ],
            [
             0.8888888888888888,
             "#fdca26"
            ],
            [
             1,
             "#f0f921"
            ]
           ]
          },
          "colorway": [
           "#636efa",
           "#EF553B",
           "#00cc96",
           "#ab63fa",
           "#FFA15A",
           "#19d3f3",
           "#FF6692",
           "#B6E880",
           "#FF97FF",
           "#FECB52"
          ],
          "font": {
           "color": "#2a3f5f"
          },
          "geo": {
           "bgcolor": "white",
           "lakecolor": "white",
           "landcolor": "#E5ECF6",
           "showlakes": true,
           "showland": true,
           "subunitcolor": "white"
          },
          "hoverlabel": {
           "align": "left"
          },
          "hovermode": "closest",
          "mapbox": {
           "style": "light"
          },
          "paper_bgcolor": "white",
          "plot_bgcolor": "#E5ECF6",
          "polar": {
           "angularaxis": {
            "gridcolor": "white",
            "linecolor": "white",
            "ticks": ""
           },
           "bgcolor": "#E5ECF6",
           "radialaxis": {
            "gridcolor": "white",
            "linecolor": "white",
            "ticks": ""
           }
          },
          "scene": {
           "xaxis": {
            "backgroundcolor": "#E5ECF6",
            "gridcolor": "white",
            "gridwidth": 2,
            "linecolor": "white",
            "showbackground": true,
            "ticks": "",
            "zerolinecolor": "white"
           },
           "yaxis": {
            "backgroundcolor": "#E5ECF6",
            "gridcolor": "white",
            "gridwidth": 2,
            "linecolor": "white",
            "showbackground": true,
            "ticks": "",
            "zerolinecolor": "white"
           },
           "zaxis": {
            "backgroundcolor": "#E5ECF6",
            "gridcolor": "white",
            "gridwidth": 2,
            "linecolor": "white",
            "showbackground": true,
            "ticks": "",
            "zerolinecolor": "white"
           }
          },
          "shapedefaults": {
           "line": {
            "color": "#2a3f5f"
           }
          },
          "ternary": {
           "aaxis": {
            "gridcolor": "white",
            "linecolor": "white",
            "ticks": ""
           },
           "baxis": {
            "gridcolor": "white",
            "linecolor": "white",
            "ticks": ""
           },
           "bgcolor": "#E5ECF6",
           "caxis": {
            "gridcolor": "white",
            "linecolor": "white",
            "ticks": ""
           }
          },
          "title": {
           "x": 0.05
          },
          "xaxis": {
           "automargin": true,
           "gridcolor": "white",
           "linecolor": "white",
           "ticks": "",
           "title": {
            "standoff": 15
           },
           "zerolinecolor": "white",
           "zerolinewidth": 2
          },
          "yaxis": {
           "automargin": true,
           "gridcolor": "white",
           "linecolor": "white",
           "ticks": "",
           "title": {
            "standoff": 15
           },
           "zerolinecolor": "white",
           "zerolinewidth": 2
          }
         }
        },
        "title": {
         "text": "Сравнение метрик"
        },
        "xaxis": {
         "title": {
          "text": "index"
         }
        },
        "yaxis": {
         "title": {
          "text": "value"
         }
        }
       }
      },
      "text/html": [
       "<div>                            <div id=\"9109c759-8cbc-4e06-bba3-37ffe2a466db\" class=\"plotly-graph-div\" style=\"height:525px; width:100%;\"></div>            <script type=\"text/javascript\">                require([\"plotly\"], function(Plotly) {                    window.PLOTLYENV=window.PLOTLYENV || {};                                    if (document.getElementById(\"9109c759-8cbc-4e06-bba3-37ffe2a466db\")) {                    Plotly.newPlot(                        \"9109c759-8cbc-4e06-bba3-37ffe2a466db\",                        [{\"name\": \"metric_before\", \"type\": \"bar\", \"x\": [0, 1, 2, 3, 4, 5, 6, 7, 8, 9, 10, 11, 12, 13, 14, 15, 16, 17, 18, 19, 20, 21, 22, 23, 24, 25], \"y\": [22.75, 54.96529972553253, 115.09549868106842, 37.70000076293945, 4.224999904632568, 4.224999904632568, 37.70000076293945, 13.0, 274.6380014419556, 3.25, 128.94700622558594, 79.57299995422362, 3.913000095635653, 0.975000023841858, 3.25, 18.850000381469727, 6.5, 332.44250008463865, 39.88400006294251, 33.150001525878906, 81.25, 4.355000019073486, 130.0, 56.26400065422058, 39.0, 61.16499984264374]}, {\"name\": \"metric_after\", \"type\": \"bar\", \"x\": [0, 1, 2, 3, 4, 5, 6, 7, 8, 9, 10, 11, 12, 13, 14, 15, 16, 17, 18, 19, 20, 21, 22, 23, 24, 25], \"y\": [538.4145016670227, 281.9764986038208, 4.914000034332275, 146.51000162959102, 0.3783000111579895, 179.224500797689, 327.7820029258728, 329.02350187301636, 9.425000190734863, 272.8505024909973, 257.33500003814703, 1.4950000047683716, 61.50299835205078, 54.72999954223633, 4.374499797821045, 18.1350005865097, 5.986499786376952, 128.94700622558594, 128.94700622558594, 31.31700086593628, 0.7149999737739563, 61.50299835205078, 13.0, 116.68799877166748, 57.20000076293945, 8.84000015258789]}],                        {\"barmode\": \"group\", \"hovermode\": \"x\", \"template\": {\"data\": {\"bar\": [{\"error_x\": {\"color\": \"#2a3f5f\"}, \"error_y\": {\"color\": \"#2a3f5f\"}, \"marker\": {\"line\": {\"color\": \"#E5ECF6\", \"width\": 0.5}}, \"type\": \"bar\"}], \"barpolar\": [{\"marker\": {\"line\": {\"color\": \"#E5ECF6\", \"width\": 0.5}}, \"type\": \"barpolar\"}], \"carpet\": [{\"aaxis\": {\"endlinecolor\": \"#2a3f5f\", \"gridcolor\": \"white\", \"linecolor\": \"white\", \"minorgridcolor\": \"white\", \"startlinecolor\": \"#2a3f5f\"}, \"baxis\": {\"endlinecolor\": \"#2a3f5f\", \"gridcolor\": \"white\", \"linecolor\": \"white\", \"minorgridcolor\": \"white\", \"startlinecolor\": \"#2a3f5f\"}, \"type\": \"carpet\"}], \"choropleth\": [{\"colorbar\": {\"outlinewidth\": 0, \"ticks\": \"\"}, \"type\": \"choropleth\"}], \"contour\": [{\"colorbar\": {\"outlinewidth\": 0, \"ticks\": \"\"}, \"colorscale\": [[0.0, \"#0d0887\"], [0.1111111111111111, \"#46039f\"], [0.2222222222222222, \"#7201a8\"], [0.3333333333333333, \"#9c179e\"], [0.4444444444444444, \"#bd3786\"], [0.5555555555555556, \"#d8576b\"], [0.6666666666666666, \"#ed7953\"], [0.7777777777777778, \"#fb9f3a\"], [0.8888888888888888, \"#fdca26\"], [1.0, \"#f0f921\"]], \"type\": \"contour\"}], \"contourcarpet\": [{\"colorbar\": {\"outlinewidth\": 0, \"ticks\": \"\"}, \"type\": \"contourcarpet\"}], \"heatmap\": [{\"colorbar\": {\"outlinewidth\": 0, \"ticks\": \"\"}, \"colorscale\": [[0.0, \"#0d0887\"], [0.1111111111111111, \"#46039f\"], [0.2222222222222222, \"#7201a8\"], [0.3333333333333333, \"#9c179e\"], [0.4444444444444444, \"#bd3786\"], [0.5555555555555556, \"#d8576b\"], [0.6666666666666666, \"#ed7953\"], [0.7777777777777778, \"#fb9f3a\"], [0.8888888888888888, \"#fdca26\"], [1.0, \"#f0f921\"]], \"type\": \"heatmap\"}], \"heatmapgl\": [{\"colorbar\": {\"outlinewidth\": 0, \"ticks\": \"\"}, \"colorscale\": [[0.0, \"#0d0887\"], [0.1111111111111111, \"#46039f\"], [0.2222222222222222, \"#7201a8\"], [0.3333333333333333, \"#9c179e\"], [0.4444444444444444, \"#bd3786\"], [0.5555555555555556, \"#d8576b\"], [0.6666666666666666, \"#ed7953\"], [0.7777777777777778, \"#fb9f3a\"], [0.8888888888888888, \"#fdca26\"], [1.0, \"#f0f921\"]], \"type\": \"heatmapgl\"}], \"histogram\": [{\"marker\": {\"colorbar\": {\"outlinewidth\": 0, \"ticks\": \"\"}}, \"type\": \"histogram\"}], \"histogram2d\": [{\"colorbar\": {\"outlinewidth\": 0, \"ticks\": \"\"}, \"colorscale\": [[0.0, \"#0d0887\"], [0.1111111111111111, \"#46039f\"], [0.2222222222222222, \"#7201a8\"], [0.3333333333333333, \"#9c179e\"], [0.4444444444444444, \"#bd3786\"], [0.5555555555555556, \"#d8576b\"], [0.6666666666666666, \"#ed7953\"], [0.7777777777777778, \"#fb9f3a\"], [0.8888888888888888, \"#fdca26\"], [1.0, \"#f0f921\"]], \"type\": \"histogram2d\"}], \"histogram2dcontour\": [{\"colorbar\": {\"outlinewidth\": 0, \"ticks\": \"\"}, \"colorscale\": [[0.0, \"#0d0887\"], [0.1111111111111111, \"#46039f\"], [0.2222222222222222, \"#7201a8\"], [0.3333333333333333, \"#9c179e\"], [0.4444444444444444, \"#bd3786\"], [0.5555555555555556, \"#d8576b\"], [0.6666666666666666, \"#ed7953\"], [0.7777777777777778, \"#fb9f3a\"], [0.8888888888888888, \"#fdca26\"], [1.0, \"#f0f921\"]], \"type\": \"histogram2dcontour\"}], \"mesh3d\": [{\"colorbar\": {\"outlinewidth\": 0, \"ticks\": \"\"}, \"type\": \"mesh3d\"}], \"parcoords\": [{\"line\": {\"colorbar\": {\"outlinewidth\": 0, \"ticks\": \"\"}}, \"type\": \"parcoords\"}], \"pie\": [{\"automargin\": true, \"type\": \"pie\"}], \"scatter\": [{\"marker\": {\"colorbar\": {\"outlinewidth\": 0, \"ticks\": \"\"}}, \"type\": \"scatter\"}], \"scatter3d\": [{\"line\": {\"colorbar\": {\"outlinewidth\": 0, \"ticks\": \"\"}}, \"marker\": {\"colorbar\": {\"outlinewidth\": 0, \"ticks\": \"\"}}, \"type\": \"scatter3d\"}], \"scattercarpet\": [{\"marker\": {\"colorbar\": {\"outlinewidth\": 0, \"ticks\": \"\"}}, \"type\": \"scattercarpet\"}], \"scattergeo\": [{\"marker\": {\"colorbar\": {\"outlinewidth\": 0, \"ticks\": \"\"}}, \"type\": \"scattergeo\"}], \"scattergl\": [{\"marker\": {\"colorbar\": {\"outlinewidth\": 0, \"ticks\": \"\"}}, \"type\": \"scattergl\"}], \"scattermapbox\": [{\"marker\": {\"colorbar\": {\"outlinewidth\": 0, \"ticks\": \"\"}}, \"type\": \"scattermapbox\"}], \"scatterpolar\": [{\"marker\": {\"colorbar\": {\"outlinewidth\": 0, \"ticks\": \"\"}}, \"type\": \"scatterpolar\"}], \"scatterpolargl\": [{\"marker\": {\"colorbar\": {\"outlinewidth\": 0, \"ticks\": \"\"}}, \"type\": \"scatterpolargl\"}], \"scatterternary\": [{\"marker\": {\"colorbar\": {\"outlinewidth\": 0, \"ticks\": \"\"}}, \"type\": \"scatterternary\"}], \"surface\": [{\"colorbar\": {\"outlinewidth\": 0, \"ticks\": \"\"}, \"colorscale\": [[0.0, \"#0d0887\"], [0.1111111111111111, \"#46039f\"], [0.2222222222222222, \"#7201a8\"], [0.3333333333333333, \"#9c179e\"], [0.4444444444444444, \"#bd3786\"], [0.5555555555555556, \"#d8576b\"], [0.6666666666666666, \"#ed7953\"], [0.7777777777777778, \"#fb9f3a\"], [0.8888888888888888, \"#fdca26\"], [1.0, \"#f0f921\"]], \"type\": \"surface\"}], \"table\": [{\"cells\": {\"fill\": {\"color\": \"#EBF0F8\"}, \"line\": {\"color\": \"white\"}}, \"header\": {\"fill\": {\"color\": \"#C8D4E3\"}, \"line\": {\"color\": \"white\"}}, \"type\": \"table\"}]}, \"layout\": {\"annotationdefaults\": {\"arrowcolor\": \"#2a3f5f\", \"arrowhead\": 0, \"arrowwidth\": 1}, \"autotypenumbers\": \"strict\", \"coloraxis\": {\"colorbar\": {\"outlinewidth\": 0, \"ticks\": \"\"}}, \"colorscale\": {\"diverging\": [[0, \"#8e0152\"], [0.1, \"#c51b7d\"], [0.2, \"#de77ae\"], [0.3, \"#f1b6da\"], [0.4, \"#fde0ef\"], [0.5, \"#f7f7f7\"], [0.6, \"#e6f5d0\"], [0.7, \"#b8e186\"], [0.8, \"#7fbc41\"], [0.9, \"#4d9221\"], [1, \"#276419\"]], \"sequential\": [[0.0, \"#0d0887\"], [0.1111111111111111, \"#46039f\"], [0.2222222222222222, \"#7201a8\"], [0.3333333333333333, \"#9c179e\"], [0.4444444444444444, \"#bd3786\"], [0.5555555555555556, \"#d8576b\"], [0.6666666666666666, \"#ed7953\"], [0.7777777777777778, \"#fb9f3a\"], [0.8888888888888888, \"#fdca26\"], [1.0, \"#f0f921\"]], \"sequentialminus\": [[0.0, \"#0d0887\"], [0.1111111111111111, \"#46039f\"], [0.2222222222222222, \"#7201a8\"], [0.3333333333333333, \"#9c179e\"], [0.4444444444444444, \"#bd3786\"], [0.5555555555555556, \"#d8576b\"], [0.6666666666666666, \"#ed7953\"], [0.7777777777777778, \"#fb9f3a\"], [0.8888888888888888, \"#fdca26\"], [1.0, \"#f0f921\"]]}, \"colorway\": [\"#636efa\", \"#EF553B\", \"#00cc96\", \"#ab63fa\", \"#FFA15A\", \"#19d3f3\", \"#FF6692\", \"#B6E880\", \"#FF97FF\", \"#FECB52\"], \"font\": {\"color\": \"#2a3f5f\"}, \"geo\": {\"bgcolor\": \"white\", \"lakecolor\": \"white\", \"landcolor\": \"#E5ECF6\", \"showlakes\": true, \"showland\": true, \"subunitcolor\": \"white\"}, \"hoverlabel\": {\"align\": \"left\"}, \"hovermode\": \"closest\", \"mapbox\": {\"style\": \"light\"}, \"paper_bgcolor\": \"white\", \"plot_bgcolor\": \"#E5ECF6\", \"polar\": {\"angularaxis\": {\"gridcolor\": \"white\", \"linecolor\": \"white\", \"ticks\": \"\"}, \"bgcolor\": \"#E5ECF6\", \"radialaxis\": {\"gridcolor\": \"white\", \"linecolor\": \"white\", \"ticks\": \"\"}}, \"scene\": {\"xaxis\": {\"backgroundcolor\": \"#E5ECF6\", \"gridcolor\": \"white\", \"gridwidth\": 2, \"linecolor\": \"white\", \"showbackground\": true, \"ticks\": \"\", \"zerolinecolor\": \"white\"}, \"yaxis\": {\"backgroundcolor\": \"#E5ECF6\", \"gridcolor\": \"white\", \"gridwidth\": 2, \"linecolor\": \"white\", \"showbackground\": true, \"ticks\": \"\", \"zerolinecolor\": \"white\"}, \"zaxis\": {\"backgroundcolor\": \"#E5ECF6\", \"gridcolor\": \"white\", \"gridwidth\": 2, \"linecolor\": \"white\", \"showbackground\": true, \"ticks\": \"\", \"zerolinecolor\": \"white\"}}, \"shapedefaults\": {\"line\": {\"color\": \"#2a3f5f\"}}, \"ternary\": {\"aaxis\": {\"gridcolor\": \"white\", \"linecolor\": \"white\", \"ticks\": \"\"}, \"baxis\": {\"gridcolor\": \"white\", \"linecolor\": \"white\", \"ticks\": \"\"}, \"bgcolor\": \"#E5ECF6\", \"caxis\": {\"gridcolor\": \"white\", \"linecolor\": \"white\", \"ticks\": \"\"}}, \"title\": {\"x\": 0.05}, \"xaxis\": {\"automargin\": true, \"gridcolor\": \"white\", \"linecolor\": \"white\", \"ticks\": \"\", \"title\": {\"standoff\": 15}, \"zerolinecolor\": \"white\", \"zerolinewidth\": 2}, \"yaxis\": {\"automargin\": true, \"gridcolor\": \"white\", \"linecolor\": \"white\", \"ticks\": \"\", \"title\": {\"standoff\": 15}, \"zerolinecolor\": \"white\", \"zerolinewidth\": 2}}}, \"title\": {\"text\": \"\\u0421\\u0440\\u0430\\u0432\\u043d\\u0435\\u043d\\u0438\\u0435 \\u043c\\u0435\\u0442\\u0440\\u0438\\u043a\"}, \"xaxis\": {\"title\": {\"text\": \"index\"}}, \"yaxis\": {\"title\": {\"text\": \"value\"}}},                        {\"responsive\": true}                    ).then(function(){\n",
       "                            \n",
       "var gd = document.getElementById('9109c759-8cbc-4e06-bba3-37ffe2a466db');\n",
       "var x = new MutationObserver(function (mutations, observer) {{\n",
       "        var display = window.getComputedStyle(gd).display;\n",
       "        if (!display || display === 'none') {{\n",
       "            console.log([gd, 'removed!']);\n",
       "            Plotly.purge(gd);\n",
       "            observer.disconnect();\n",
       "        }}\n",
       "}});\n",
       "\n",
       "// Listen for the removal of the full notebook cells\n",
       "var notebookContainer = gd.closest('#notebook-container');\n",
       "if (notebookContainer) {{\n",
       "    x.observe(notebookContainer, {childList: true});\n",
       "}}\n",
       "\n",
       "// Listen for the clearing of the current output cell\n",
       "var outputEl = gd.closest('.output');\n",
       "if (outputEl) {{\n",
       "    x.observe(outputEl, {childList: true});\n",
       "}}\n",
       "\n",
       "                        })                };                });            </script>        </div>"
      ]
     },
     "metadata": {},
     "output_type": "display_data"
    }
   ],
   "source": [
    "import plotly.graph_objects as go\n",
    "from plotly.offline import iplot\n",
    "import cufflinks\n",
    "\n",
    "cufflinks.go_offline()\n",
    "\n",
    "trace0 = go.Bar(\n",
    "    x = df_data.index,\n",
    "    y = df_data['metric_before'],\n",
    "    name='metric_before'\n",
    ")\n",
    "\n",
    "trace1 = go.Bar(\n",
    "    x = df_data.index,\n",
    "    y = df_data['metric_after'],\n",
    "    name='metric_after'\n",
    ")\n",
    "\n",
    "data = [trace0,trace1]\n",
    "layout = {'title': 'Сравнение метрик', 'xaxis': {'title': 'index'}, 'yaxis': {'title': 'value'}}\n",
    "fig = go.Figure(data=data, layout=layout)\n",
    "fig.update_layout(barmode='group', hovermode='x')\n",
    "iplot(fig, show_link=False)"
   ]
  },
  {
   "cell_type": "markdown",
   "metadata": {},
   "source": [
    "## Рассуждение:\n",
    "По этому графику видим, что ВРОДЕ БЫ, metric_after сработала гораздо лучше сначала, чем metric_before, но потом все вроде бы выравнилось по равенству значений, наблюдаем странное поведение на 17ом индексе, возможно что то там в процессе еще повлияло, а в начале сработал эффект новизны, но это все ЛИШЬ ПРЕДПОЛОЖЕНИЕ, давайте проверим статистическую значимость с помощью кагого нибудь критерия, чтобы определиться с критерием нужно посмотреть на распределения, если они нормальные, используем критерий Стьюдента."
   ]
  },
  {
   "cell_type": "code",
   "execution_count": 11,
   "metadata": {
    "scrolled": false
   },
   "outputs": [
    {
     "name": "stderr",
     "output_type": "stream",
     "text": [
      "C:\\Users\\Kovardakov_VA\\Anaconda3\\lib\\site-packages\\seaborn\\distributions.py:2551: FutureWarning:\n",
      "\n",
      "`distplot` is a deprecated function and will be removed in a future version. Please adapt your code to use either `displot` (a figure-level function with similar flexibility) or `histplot` (an axes-level function for histograms).\n",
      "\n",
      "C:\\Users\\Kovardakov_VA\\Anaconda3\\lib\\site-packages\\seaborn\\distributions.py:2551: FutureWarning:\n",
      "\n",
      "`distplot` is a deprecated function and will be removed in a future version. Please adapt your code to use either `displot` (a figure-level function with similar flexibility) or `histplot` (an axes-level function for histograms).\n",
      "\n"
     ]
    },
    {
     "data": {
      "text/plain": [
       "<matplotlib.legend.Legend at 0x22b47e42b20>"
      ]
     },
     "execution_count": 11,
     "metadata": {},
     "output_type": "execute_result"
    },
    {
     "data": {
      "image/png": "[encoded data removed]",
      "text/plain": [
       "<Figure size 1080x360 with 1 Axes>"
      ]
     },
     "metadata": {},
     "output_type": "display_data"
    }
   ],
   "source": [
    "# Смотрим распределения\n",
    "sns.set(rc={'figure.figsize':(15,5)})\n",
    "sns.distplot(df_data['metric_before'], bins = 10, label='metric_before')\n",
    "sns.distplot(df_data['metric_after'], bins = 10, label='metric_after')\n",
    "plt.legend()"
   ]
  },
  {
   "cell_type": "markdown",
   "metadata": {},
   "source": [
    "В распределениях есть очевидные выбросы, которые не дают применить критерий Стьюдента, поэтому применим критерий Манна-Уитни.\n",
    "\n",
    "*Вообще я такой человек, что я всегда использовал бы критерий Манна-Уитни, я редко вижу хорошие колокола в проде, хотелось бы это обсудить с опытными людьми*\n",
    "\n",
    "Обычно в p-value принимают за границу достоверности 0.05, но это нужно обсудить с экспертом, потому что это значение может быть и 0.01, и 0.15, сейчас я возьму наиболее частый случай 0.05 "
   ]
  },
  {
   "cell_type": "code",
   "execution_count": 12,
   "metadata": {},
   "outputs": [
    {
     "name": "stdout",
     "output_type": "stream",
     "text": [
      "p-value:  0.12069867815539354\n"
     ]
    }
   ],
   "source": [
    "from scipy import stats\n",
    "\n",
    "cor0 = df_data['metric_before']\n",
    "cor1 = df_data['metric_after']\n",
    "res = stats.mannwhitneyu(cor1,cor0)\n",
    "print('p-value: ',res[1])"
   ]
  },
  {
   "cell_type": "markdown",
   "metadata": {},
   "source": [
    "p-value получилось достаточно большим, критерием проверяется гипотеза о равенстве (ее легко проверить, потому что если проверять неравенство, то там слишком много вариантов, питон не пишет что он проверяет, но он проверяет равенство), 0.12 > 0.05, отклонения медиан случаны. \n",
    "\n",
    "## Вывод:\n",
    "\n",
    "Распределения метрик не отличаются, отклонения медиан случаны. \n",
    "\n",
    "Каких-то значимых различий из-за нового эксперимента не произошло"
   ]
  },
  {
   "cell_type": "markdown",
   "metadata": {},
   "source": [
    "### Предположение"
   ]
  },
  {
   "cell_type": "markdown",
   "metadata": {},
   "source": [
    "Еще данные распределения похожи на экспоненциальные, давайте попробуем пролагорифмировать, может увидим что нибудь еще"
   ]
  },
  {
   "cell_type": "code",
   "execution_count": 14,
   "metadata": {},
   "outputs": [],
   "source": [
    "import numpy as np\n",
    "df_log_data = np.log(df_data.astype(float))"
   ]
  },
  {
   "cell_type": "code",
   "execution_count": 16,
   "metadata": {},
   "outputs": [
    {
     "name": "stderr",
     "output_type": "stream",
     "text": [
      "C:\\Users\\Kovardakov_VA\\Anaconda3\\lib\\site-packages\\seaborn\\distributions.py:2551: FutureWarning:\n",
      "\n",
      "`distplot` is a deprecated function and will be removed in a future version. Please adapt your code to use either `displot` (a figure-level function with similar flexibility) or `histplot` (an axes-level function for histograms).\n",
      "\n",
      "C:\\Users\\Kovardakov_VA\\Anaconda3\\lib\\site-packages\\seaborn\\distributions.py:2551: FutureWarning:\n",
      "\n",
      "`distplot` is a deprecated function and will be removed in a future version. Please adapt your code to use either `displot` (a figure-level function with similar flexibility) or `histplot` (an axes-level function for histograms).\n",
      "\n"
     ]
    },
    {
     "data": {
      "text/plain": [
       "<matplotlib.legend.Legend at 0x22b47e424f0>"
      ]
     },
     "execution_count": 16,
     "metadata": {},
     "output_type": "execute_result"
    },
    {
     "data": {
      "image/png": "[encoded data removed]",
      "text/plain": [
       "<Figure size 1080x360 with 1 Axes>"
      ]
     },
     "metadata": {},
     "output_type": "display_data"
    }
   ],
   "source": [
    "# Посмотрим пролагорифмированные соединения, \n",
    "# может там будет нормальное распределение и мы сможем сравнить с критерием стьюдента\n",
    "sns.set(rc={'figure.figsize':(15,5)})\n",
    "sns.distplot(df_log_data['metric_before'], bins = 10, label='metric_before')\n",
    "sns.distplot(df_log_data['metric_after'], bins = 10, label='metric_after')\n",
    "plt.legend()"
   ]
  },
  {
   "cell_type": "code",
   "execution_count": 18,
   "metadata": {},
   "outputs": [
    {
     "name": "stdout",
     "output_type": "stream",
     "text": [
      "p-value:  0.12069867815539354\n"
     ]
    }
   ],
   "source": [
    "# p-value должен получиться таким же\n",
    "\n",
    "cor0 = df_log_data['metric_before']\n",
    "cor1 = df_log_data['metric_after']\n",
    "res = stats.mannwhitneyu(cor1,cor0)\n",
    "print('p-value: ',res[1])"
   ]
  },
  {
   "cell_type": "markdown",
   "metadata": {},
   "source": [
    "# ТЗ_Креативные тестирования"
   ]
  },
  {
   "cell_type": "markdown",
   "metadata": {},
   "source": [
    "## Кейс 1 <a class=\"anchor\" id=\"5-bullet\"></a>\n",
    "\n",
    "У нас есть большое количество 10-15 сек роликов, когда-то запускавшихся в том или\n",
    "ином виде, скажем, в фэйсбуке на различные аудитории. О каждом из них мы имеем\n",
    "следующую информацию: арт-стиль (сеттинг, рисовка); тип сюжета (главный герой и\n",
    "его цель); параметры запусков (период, аудитория, объемы закупки и тп); показатели\n",
    "маркетинговой воронки каждого запуска. Мы выходим на новую платформу, но она\n",
    "требует хронометраж не менее 30 сек, поэтому возникает задача склеить из\n",
    "существующих или создать с нуля новый 30+сек ролик, способный показать хороший\n",
    "результат. Какие Ваши действия? В общих чертах опишите предполагаемые шаги и\n",
    "основания для принимаемых решений в процессе."
   ]
  },
  {
   "cell_type": "markdown",
   "metadata": {},
   "source": [
    "## Решение\n",
    "\n",
    "### Вот тут идет формулировка и уточнение стандартных процедур для тестирования\n",
    "Итак, у нас есть выбор, сделать новый ролик, или склеить ролик из двух готовых роликов, я сейчас попробую смоделировать ситуацию когда первый вариант принесет бизнесу наилучший результат, а когда второй.\n",
    "\n",
    "Мы сделали правильно если в результате создания нового ролика получили: основные KPIs на созданном с нуля ролике превзошли показатели на склеенном ролике, так же надо учесть трудочасы работников, которые этим занимались, видеооператор, менеджер, директор и т.д. \n",
    "\n",
    "Далее встает вопрос с чем сравнивать, ведь мы можем как смонтировать, так и склееть тысячи разных роликов.\n",
    "\n",
    "На помощь нам придут признаки которые есть у видеороликов: арт-стиль (сеттинг, рисовка); тип сюжета (главный герой и его цель); параметры запусков (период, аудитория, объемы закупки и тп); показатели маркетинговой воронки каждого запуска.\n",
    "\n",
    "Сравнивать созданный заново и склеенный ролики будем только тогда, когда они достаточно похожи по этим признакам.\n",
    "\n",
    "Воронки будем сравнивать с помощью AB-тестов.\n",
    "\n",
    "Так же надо понимать, что нельзя учитывать результаты, которые уже устарели, я бы посоветовал все таки запустить их опять и сравнивать, таким образом образуя сходимость к наилучшему решению. (возможно трэнды пользователей поменялись, и даже крутой ролик сделанный и склеенный хорошо из двух старых, покажит плохие результаты по сравнению с новым, где используется новая графика, новый цветокор, а )\n",
    "\n",
    "### Вот тут начинаем придумывать\n",
    "\n",
    "Давайте подумаем со стороны пользователя, что бы нам могло понравиться, чего еще нет.\n",
    "\n",
    "Мне представляется, что на данный момент есть два вида рекламы игр:\n",
    "\n",
    "- это красивый короткий трейлер к игре, который сделан для того, чтобы погрузить больше в сюжетную линию, чем в геймплэй, здесь приемуществом является эпичность или хорошо прорисованная история с глубоким погружением в сюжет видеоряда.\n",
    "\n",
    "- и это показывание геймплэя, возможно даже в рекламе могут присутствовать кнопки - действия, чтобы показать геймплэй более понятный, здесь приемуществом является интерактив, человек генерирует что то новое своими действиями.\n",
    "\n",
    "Окей, круто, если мы начинаем что-то придумывать совершенно новое, ну давайте придумаем что-то хорошее)\n",
    "Возьмем 15 секунд сюжетки, а после 15 секунд интерактива с тем же героем, местом, сеттингом мб, рисовка будет попроще может во второй половине, но погрузившись максимально в хорошую историю с красивой графикой, потом пользователь сможет ее еще и продолжить! я вот рекламу пропускаю всегда, но если бы встретил такое, то весьма заинтересовался бы этим.\n",
    "Ну может я один такой? Тогда стоит подумать над опросом, спросить у многих и выяснить с помощью больших чисел а где же правда, и как думает большинство.\n",
    "\n",
    "А можно сделать наоборот! \n",
    "Тут тоже есть свои приемущества, человек клюнул на интерактив, он его проходит ради чего? чтобы в конце что то получить, он может получить какое то маленькое вознагрождение, обычно это какое то действие в такой же графике, выпадает из сундука сокровище, все скромно и просто.\n",
    "А теперь представьте если бы он сделал пару действий, а у него по прохождению, что то вроде современных трейлеров WoW в качестве вознаграждения, он бы досмотрел, он бы и кликнул, а что если в игре так же? возможно это где то очень сильно повлияло на воронку, поэтому не забываем про сравнение о котором мы говорили раньше, не забываем так же считать ROAS, ROI или что нибудь еще, оценивающее окупаемость рекламы, не забываем в растраты включать трудочасы работников, аутсорс проекты, в общем стараемся учесть все по максимуму, ведь склееть ролики, и создать крутой визуал с нуля, это совершенно разные обороты, хотя на стоймость рекламы в нашем ресурсе оно не повлияет.\n",
    "\n",
    "\n"
   ]
  },
  {
   "cell_type": "markdown",
   "metadata": {},
   "source": [
    "## Кейс 2: <a class=\"anchor\" id=\"6-bullet\"></a>\n",
    "Анализируя рынок мобильных приложений, мы выяснили, что среди лидирующих\n",
    "приложений креативы, которые показывают сильно измененный или даже\n",
    "отличающийся от реального геймплэй (мислид), занимают значительную часть\n",
    "закупки, а значит (мы предполагаем, что лидеры не дураки) работают на привлечение\n",
    "новых игроков довольно эффективно.\n",
    "Попробуйте объяснить, почему так происходит.\n",
    "Как бы Вы подошли к оценке перфоманса подобных креативов?\n",
    "Предполагается, что мы имеем данные по всем ключевым событиям маркетинговой и\n",
    "продуктовой воронки."
   ]
  },
  {
   "attachments": {
    "image-2.png": {
     "image/png": "[encoded data removed]"
    },
    "image.png": {
     "image/png": "[encoded data removed]"
    }
   },
   "cell_type": "markdown",
   "metadata": {},
   "source": [
    "## Решение\n",
    "\n",
    "Я думаю, что так происходит из-за насыщенности рынка, человеку возможно не нужно чего-то очень хорошего, он бы был доволен играя в дудл джамп, но в его телефоне есть тысячи игр, и он хочет найти что-нибудь поинтереснее, поэтому заостряет внимание на рекламе про какую-нибудь игру, и ему начинают попадаться объявления, где показывают отличающийся от реального геймплэй, он думает, что игра очень крутая, потом заходит в нее и начинает играть, и понимает что она не очень крутая, но чуть лучше чем предыдушая, и становится постоянным пользователем, возможно он надеется на то что дальше будет что-то подобное, как было в рекламе.\n",
    "\n",
    "Для того, чтобы оценить эту рекламу я думаю понадобится особое внимание уделить жизненному циклу клиента или LTV, попробовать посчитать его поточнее, есть много способов для этого, какие-то сложные зато лучше и надежнее, какие-то простые зато можно посчитать быстро, будем отталкиваться от мнения заказчика.\n",
    "\n",
    "Посмотреть на когорты или retention rate:\n",
    "\n",
    "Метрика Retention rate довольно широко распространена и особенно известна в мобильной индустрии, поскольку позволяет понять насколько хорошо продукт вовлекает пользователей в ежедневное использование.\n",
    "\n",
    "Визуализировать все это вот так, и смотреть какой жизненный цикл у пользователей, которым мы дали немного завышенные ожидания, и как он отличается от жизненного цикла пользователей, которым мы не давали завышенных ожиданий, если они не очень то и сильно отличаются, то отлично, берем этот инструмент к себе и используем.\n",
    "Если же отличия есть, то надо понять сможем ли мы масштабировать вариант, который хороший, если нет, то будем использовать все равно и тот, что вводит в заблуждение, он же приносит деньги, пусть и не так много как хотелось бы. Мы еще говорили выше о том что нельзя с этим перебарщивать, желательно изредка проводить опросы о том насколько люди доверяют рекламным компаниям, иначе инструмент с привлечением новых клиентов и удержанием старых засчет новых обновлений, может начать хуже, потому что люди перестанут верить изменениям, которые компания для них сделала.\n",
    "\n",
    "![image.png](attachment:image.png)\n",
    "\n",
    "![image-2.png](attachment:image-2.png)\n",
    "\n",
    "**Самое важное если мы вводим в заблуждение нашего клиента понять, какая у него на это реакция и разобраться насколько сильно большинство клиентов обижаются на такой маркетинговый ход, возможно кто-то из них начнет думать что игра плохая, и даже когда будут выходить классные обновления, то человек будет думать, что это обман, это плохая ситуация, которой бы хотелось избежать.**"
   ]
  }
 ],
 "metadata": {
  "kernelspec": {
   "display_name": "Python 3",
   "language": "python",
   "name": "python3"
  },
  "language_info": {
   "codemirror_mode": {
    "name": "ipython",
    "version": 3
   },
   "file_extension": ".py",
   "mimetype": "text/x-python",
   "name": "python",
   "nbconvert_exporter": "python",
   "pygments_lexer": "ipython3",
   "version": "3.8.5"
  }
 },
 "nbformat": 4,
 "nbformat_minor": 5
}
